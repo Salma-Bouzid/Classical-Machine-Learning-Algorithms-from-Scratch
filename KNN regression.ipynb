{
 "cells": [
  {
   "cell_type": "code",
   "execution_count": 13,
   "metadata": {
    "collapsed": true
   },
   "outputs": [],
   "source": [
    "import numpy as np \n",
    "import random\n"
   ]
  },
  {
   "cell_type": "code",
   "execution_count": 15,
   "metadata": {
    "collapsed": true
   },
   "outputs": [],
   "source": [
    "x = np.random.rand(100, 5)\n",
    "np.random.shuffle(x)\n",
    "training, test = x[:80,:], x[80:,:]\n",
    "\n",
    "\n"
   ]
  },
  {
   "cell_type": "code",
   "execution_count": 16,
   "metadata": {
    "collapsed": true
   },
   "outputs": [],
   "source": [
    "X_train, y_train = training[:,:4], training[:,4]\n",
    "X_test , y_test = test[:,:4], test[:,4]"
   ]
  },
  {
   "cell_type": "code",
   "execution_count": 80,
   "metadata": {
    "collapsed": true
   },
   "outputs": [],
   "source": [
    "def euclidean_dis(array1, array2):\n",
    "    dist_sq = np.power(array1-array2,2)\n",
    "    \n",
    "    dist = np.sqrt(dist_sq.sum(axis =1))\n",
    "    return dist"
   ]
  },
  {
   "cell_type": "code",
   "execution_count": 69,
   "metadata": {
    "collapsed": true
   },
   "outputs": [],
   "source": [
    "def neighbor_idx (k, train_feat, test_feat):\n",
    "    \n",
    "    indices = []\n",
    "    for i in range(len(test_feat)):\n",
    "        test = np.repeat(test_feat[i],train_feat.shape[0], axis =0).reshape(train_feat.shape)\n",
    "        dist = euclidean_dis(test,train_feat)\n",
    "        sorted_idx = np.argsort(dist)\n",
    "        indices.append(sorted_idx[:k])\n",
    "    return indices\n",
    "    "
   ]
  },
  {
   "cell_type": "code",
   "execution_count": 79,
   "metadata": {},
   "outputs": [
    {
     "data": {
      "text/plain": [
       "array([ 0.40164697,  0.34993631,  0.34984416,  0.12321008,  0.74843225,\n",
       "        0.17492074,  0.45263464,  0.88326457,  0.37064135,  0.63002661,\n",
       "        0.32346589,  0.48382908,  0.6232496 ,  0.25544943,  0.50547366,\n",
       "        0.31321412,  0.3454949 ,  0.20373878,  0.43665362,  0.37064135])"
      ]
     },
     "execution_count": 79,
     "metadata": {},
     "output_type": "execute_result"
    }
   ],
   "source": [
    "predict(2,X_train, X_test,y_train)"
   ]
  },
  {
   "cell_type": "code",
   "execution_count": 93,
   "metadata": {
    "collapsed": true
   },
   "outputs": [],
   "source": [
    "def accuracy(k, train_feat, test_feat, train_target, test_target):\n",
    "    \n",
    "    y_pred = predict(k, train_feat, test_feat, train_target)\n",
    "    \n",
    "    mse = np.power(test_target - y_pred,2).mean()\n",
    "    rmse = np.sqrt(mse)\n",
    "    return rmse"
   ]
  },
  {
   "cell_type": "code",
   "execution_count": 94,
   "metadata": {},
   "outputs": [
    {
     "data": {
      "text/plain": [
       "0.39161150692481378"
      ]
     },
     "execution_count": 94,
     "metadata": {},
     "output_type": "execute_result"
    }
   ],
   "source": [
    "accuracy(2,X_train, X_test,y_train,y_test)"
   ]
  },
  {
   "cell_type": "code",
   "execution_count": null,
   "metadata": {
    "collapsed": true
   },
   "outputs": [],
   "source": []
  }
 ],
 "metadata": {
  "kernelspec": {
   "display_name": "Python 3",
   "language": "python",
   "name": "python3"
  },
  "language_info": {
   "codemirror_mode": {
    "name": "ipython",
    "version": 3
   },
   "file_extension": ".py",
   "mimetype": "text/x-python",
   "name": "python",
   "nbconvert_exporter": "python",
   "pygments_lexer": "ipython3",
   "version": "3.6.3"
  }
 },
 "nbformat": 4,
 "nbformat_minor": 2
}
